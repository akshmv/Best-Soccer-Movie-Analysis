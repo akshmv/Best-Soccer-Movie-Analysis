{
 "cells": [
  {
   "cell_type": "code",
   "execution_count": null,
   "metadata": {
    "application/vnd.databricks.v1+cell": {
     "cellMetadata": {
      "byteLimit": 2048000,
      "rowLimit": 10000
     },
     "inputWidgets": {},
     "nuid": "c78a80fe-8178-4e5d-ba52-828495821caf",
     "showTitle": false,
     "title": ""
    }
   },
   "outputs": [
    {
     "data": {
      "text/html": [
       "<style scoped>\n",
       "  .table-result-container {\n",
       "    max-height: 300px;\n",
       "    overflow: auto;\n",
       "  }\n",
       "  table, th, td {\n",
       "    border: 1px solid black;\n",
       "    border-collapse: collapse;\n",
       "  }\n",
       "  th, td {\n",
       "    padding: 5px;\n",
       "  }\n",
       "  th {\n",
       "    text-align: left;\n",
       "  }\n",
       "</style><div class='table-result-container'><table class='table-result'><thead style='background-color: white'><tr><th>path</th><th>name</th><th>size</th><th>modificationTime</th></tr></thead><tbody><tr><td>abfss://moviesdata@moviesdatastorageacc224.dfs.core.windows.net/critic_reviews.csv</td><td>critic_reviews.csv</td><td>910245</td><td>1721885129000</td></tr><tr><td>abfss://moviesdata@moviesdatastorageacc224.dfs.core.windows.net/movies.csv</td><td>movies.csv</td><td>6894</td><td>1721885128000</td></tr><tr><td>abfss://moviesdata@moviesdatastorageacc224.dfs.core.windows.net/user_reviews.csv</td><td>user_reviews.csv</td><td>20041490</td><td>1721885112000</td></tr></tbody></table></div>"
      ]
     },
     "metadata": {
      "application/vnd.databricks.v1+output": {
       "addedWidgets": {},
       "aggData": [],
       "aggError": "",
       "aggOverflow": false,
       "aggSchema": [],
       "aggSeriesLimitReached": false,
       "aggType": "",
       "arguments": {},
       "columnCustomDisplayInfos": {},
       "data": [
        [
         "abfss://moviesdata@moviesdatastorageacc224.dfs.core.windows.net/critic_reviews.csv",
         "critic_reviews.csv",
         910245,
         1721885129000
        ],
        [
         "abfss://moviesdata@moviesdatastorageacc224.dfs.core.windows.net/movies.csv",
         "movies.csv",
         6894,
         1721885128000
        ],
        [
         "abfss://moviesdata@moviesdatastorageacc224.dfs.core.windows.net/user_reviews.csv",
         "user_reviews.csv",
         20041490,
         1721885112000
        ]
       ],
       "datasetInfos": [],
       "dbfsResultPath": null,
       "isJsonSchema": true,
       "metadata": {},
       "overflow": false,
       "plotOptions": {
        "customPlotOptions": {},
        "displayType": "table",
        "pivotAggregation": null,
        "pivotColumns": null,
        "xColumns": null,
        "yColumns": null
       },
       "removedWidgets": [],
       "schema": [
        {
         "metadata": "{}",
         "name": "path",
         "type": "\"string\""
        },
        {
         "metadata": "{}",
         "name": "name",
         "type": "\"string\""
        },
        {
         "metadata": "{}",
         "name": "size",
         "type": "\"long\""
        },
        {
         "metadata": "{}",
         "name": "modificationTime",
         "type": "\"long\""
        }
       ],
       "type": "table"
      }
     },
     "output_type": "display_data"
    }
   ],
   "source": [
    "spark.conf.set(\n",
    "    \"fs.azure.account.key.moviesdatastorageacc224.dfs.core.windows.net\",\n",
    "    \"Access Key\"\n",
    ")\n",
    "\n",
    "# Now try accessing the file system\n",
    "display(\n",
    "    dbutils.fs.ls(\"abfss://moviesdata@moviesdatastorageacc224.dfs.core.windows.net\")\n",
    ")"
   ]
  },
  {
   "cell_type": "code",
   "execution_count": null,
   "metadata": {
    "application/vnd.databricks.v1+cell": {
     "cellMetadata": {
      "byteLimit": 2048000,
      "rowLimit": 10000
     },
     "inputWidgets": {},
     "nuid": "ae7edadd-1651-43ed-9b2d-005a86faf47c",
     "showTitle": false,
     "title": ""
    }
   },
   "outputs": [
    {
     "data": {
      "text/html": [
       "\n",
       "            <div>\n",
       "                <p><b>SparkSession - hive</b></p>\n",
       "                \n",
       "        <div>\n",
       "            <p><b>SparkContext</b></p>\n",
       "\n",
       "            <p><a href=\"/?o=327810021010006#setting/sparkui/0725-053043-uvwnutx1/driver-3774302929615195948\">Spark UI</a></p>\n",
       "\n",
       "            <dl>\n",
       "              <dt>Version</dt>\n",
       "                <dd><code>v3.5.0</code></dd>\n",
       "              <dt>Master</dt>\n",
       "                <dd><code>local[*, 4]</code></dd>\n",
       "              <dt>AppName</dt>\n",
       "                <dd><code>Databricks Shell</code></dd>\n",
       "            </dl>\n",
       "        </div>\n",
       "        \n",
       "            </div>\n",
       "        "
      ],
      "text/plain": [
       "<pyspark.sql.session.SparkSession at 0x7f40a71f2ec0>"
      ]
     },
     "execution_count": 3,
     "metadata": {},
     "output_type": "execute_result"
    }
   ],
   "source": [
    "from pyspark.sql import SparkSession\n",
    "from pyspark.sql.functions import *\n",
    "from pyspark.sql.types import *\n",
    "from pyspark.sql.window import Window\n",
    "\n",
    "spark = SparkSession.builder\\\n",
    "    .appName(\"Best Soccer Movies\")\\\n",
    "    .getOrCreate()\n",
    "\n",
    "spark"
   ]
  },
  {
   "cell_type": "code",
   "execution_count": null,
   "metadata": {
    "application/vnd.databricks.v1+cell": {
     "cellMetadata": {
      "byteLimit": 2048000,
      "rowLimit": 10000
     },
     "inputWidgets": {},
     "nuid": "7e0d0b51-5774-43c9-b225-a9f323f92603",
     "showTitle": false,
     "title": ""
    }
   },
   "outputs": [
    {
     "name": "stdout",
     "output_type": "stream",
     "text": [
      "root\n",
      " |-- movieId: string (nullable = true)\n",
      " |-- movieTitle: string (nullable = true)\n",
      " |-- movieYear: integer (nullable = true)\n",
      " |-- movieURL: string (nullable = true)\n",
      " |-- movieRank: integer (nullable = true)\n",
      " |-- critic_score: string (nullable = true)\n",
      " |-- audience_score: string (nullable = true)\n",
      "\n",
      "+--------------------+--------------------+---------+--------------------+---------+------------+--------------+\n",
      "|             movieId|          movieTitle|movieYear|            movieURL|movieRank|critic_score|audience_score|\n",
      "+--------------------+--------------------+---------+--------------------+---------+------------+--------------+\n",
      "|144d8fde-a175-3e4...|             Offside|     2006|https://www.rotte...|        1|         94%|           74%|\n",
      "|91217a2b-9d80-345...|   The Damned United|     2009|https://www.rotte...|        2|         92%|           85%|\n",
      "|cfd33721-a653-43f...|      Diego Maradona|     2019|https://www.rotte...|        3|         90%|          NULL|\n",
      "|3da46dee-cea6-3eb...|      Shaolin Soccer|     2001|https://www.rotte...|        4|         89%|           84%|\n",
      "|55f6efc8-0f2f-3ca...|Bend It Like Beckham|     2002|https://www.rotte...|        5|         85%|           73%|\n",
      "+--------------------+--------------------+---------+--------------------+---------+------------+--------------+\n",
      "only showing top 5 rows\n",
      "\n"
     ]
    }
   ],
   "source": [
    "moviesLoadDF = spark.read\\\n",
    "    .option(\"header\",True)\\\n",
    "    .option(\"inferSchema\",True)\\\n",
    "    .option(\"mode\",\"FAILFAST\")\\\n",
    "    .csv(\"abfss://moviesdata@moviesdatastorageacc224.dfs.core.windows.net/movies.csv\")\n",
    "\n",
    "moviesLoadDF.printSchema()\n",
    "moviesLoadDF.show(5)"
   ]
  },
  {
   "cell_type": "markdown",
   "metadata": {
    "application/vnd.databricks.v1+cell": {
     "cellMetadata": {
      "byteLimit": 2048000,
      "rowLimit": 10000
     },
     "inputWidgets": {},
     "nuid": "d613d830-1840-4472-9a89-36eb3a95ffb3",
     "showTitle": false,
     "title": ""
    }
   },
   "source": [
    "# Transforming and Filtering the dataset \"**movies.csv**\"\n",
    "- The movies data had some null values in the \"**_critic_score_**\" and \"**_audience_score_**\" column, so filtering it out using the filter function. \n",
    "- Since \"**_critic_score_**\" and \"**_audience_score_**\" columns are of type string if we try to order them the code doesn't provide the expected result. \n",
    "- So, first we need to remove the \"%\" symbol and then cast the column as \"**integer**\".\n",
    "- In the dataset the movies were not ranked based on any particular value or column. We remove that column and then rank the movies based on \"**_critic_score_**\" column. "
   ]
  },
  {
   "cell_type": "code",
   "execution_count": null,
   "metadata": {
    "application/vnd.databricks.v1+cell": {
     "cellMetadata": {
      "byteLimit": 2048000,
      "rowLimit": 10000
     },
     "inputWidgets": {},
     "nuid": "e2477d68-63e4-48ce-a61b-6147636de279",
     "showTitle": false,
     "title": ""
    }
   },
   "outputs": [
    {
     "name": "stdout",
     "output_type": "stream",
     "text": [
      "+--------------------+--------------------+---------+--------------------+------------+--------------+--------------------+----------------------+----+\n",
      "|             movieId|          movieTitle|movieYear|            movieURL|critic_score|audience_score|critic_score_numeric|audience_score_numeric|Rank|\n",
      "+--------------------+--------------------+---------+--------------------+------------+--------------+--------------------+----------------------+----+\n",
      "|58dd168c-4047-38e...|    The Class of '92|     2013|https://www.rotte...|        100%|           85%|                 100|                    85|   1|\n",
      "|4966301c-ec9e-363...|      Next Goal Wins|     2014|https://www.rotte...|        100%|           89%|                 100|                    89|   2|\n",
      "|9ae2a295-1697-344...|               Mario|     2018|https://www.rotte...|        100%|           69%|                 100|                    69|   3|\n",
      "|385149c7-d935-4ad...|Sir Alex Ferguson...|     2021|https://www.rotte...|        100%|           96%|                 100|                    96|   4|\n",
      "|144d8fde-a175-3e4...|             Offside|     2006|https://www.rotte...|         94%|           74%|                  94|                    74|   5|\n",
      "|512320db-58ea-4e8...|                 LFG|     2021|https://www.rotte...|         94%|           52%|                  94|                    52|   6|\n",
      "|91217a2b-9d80-345...|   The Damned United|     2009|https://www.rotte...|         92%|           85%|                  92|                    85|   7|\n",
      "|3da46dee-cea6-3eb...|      Shaolin Soccer|     2001|https://www.rotte...|         89%|           84%|                  89|                    84|   8|\n",
      "|02dce5c9-b929-3bf...|          The Keeper|     2018|https://www.rotte...|         87%|           88%|                  87|                    88|   9|\n",
      "|55f6efc8-0f2f-3ca...|Bend It Like Beckham|     2002|https://www.rotte...|         85%|           73%|                  85|                    73|  10|\n",
      "+--------------------+--------------------+---------+--------------------+------------+--------------+--------------------+----------------------+----+\n",
      "only showing top 10 rows\n",
      "\n"
     ]
    }
   ],
   "source": [
    "moviesDF = moviesLoadDF.select(col(\"movieId\"),\n",
    "                               col(\"movieTitle\"),\n",
    "                               col(\"movieYear\"),\n",
    "                               col(\"movieURL\"),\n",
    "                               col(\"critic_score\"),\n",
    "                               col(\"audience_score\"))\\\n",
    "                        .filter(col(\"critic_score\").isNotNull() & col(\"audience_score\").isNotNull())\\\n",
    "                        .withColumn(\"critic_score_numeric\", regexp_replace(col(\"critic_score\"), \"%\", \"\").cast(\"int\"))\\\n",
    "                        .withColumn(\"audience_score_numeric\", regexp_replace(col(\"audience_score\"), \"%\", \"\").cast(\"int\"))\\\n",
    "                        .orderBy(col(\"critic_score_numeric\").desc(), col(\"audience_score_numeric\").desc())\n",
    "\n",
    "#Ranking the movies based on critics score\n",
    "windowSpec = Window\\\n",
    "    .orderBy(col(\"critic_score_numeric\").desc())\n",
    "\n",
    "rankedDF = moviesDF\\\n",
    "    .withColumn(\"Rank\", row_number().over(windowSpec))\n",
    "\n",
    "rankedDF.show(10)"
   ]
  },
  {
   "cell_type": "code",
   "execution_count": null,
   "metadata": {
    "application/vnd.databricks.v1+cell": {
     "cellMetadata": {
      "byteLimit": 2048000,
      "rowLimit": 10000
     },
     "inputWidgets": {},
     "nuid": "3b5e91a6-cbcb-4c51-811c-1d158c1bce74",
     "showTitle": false,
     "title": ""
    }
   },
   "outputs": [],
   "source": [
    "#Writing the result to Azure Data Lake Storage\n",
    "output_path = \"abfss://moviesoutputdata@moviesdatastorageacc224.dfs.core.windows.net/moviesdata.csv\"\n",
    "\n",
    "rankedDF.write\\\n",
    "    .csv(output_path, mode=\"overwrite\")"
   ]
  },
  {
   "cell_type": "markdown",
   "metadata": {
    "application/vnd.databricks.v1+cell": {
     "cellMetadata": {
      "byteLimit": 2048000,
      "rowLimit": 10000
     },
     "inputWidgets": {},
     "nuid": "7705481e-48ff-4d13-a9f0-ad6a3df49ece",
     "showTitle": false,
     "title": ""
    }
   },
   "source": [
    "# Using read modes to identify \"Malformed\" data\n",
    "- While reading the dataset \"**_critic_reviews.csv_**\", first I used the read mode as \"**_FAILFAST_**\".\n",
    "\n",
    "`\n",
    "criticReviewLoadDF = spark.read\\\n",
    "    .option(\"header\",True)\\\n",
    "    .option(\"inferSchema\",True)\\\n",
    "    .option(\"mode\",\"FAILFAST\")\\\n",
    "    .csv(\"abfss://moviesdata@moviesdatastorageacc224.dfs.core.windows.net/critic_reviews.csv\")\n",
    "`\n",
    "\n",
    "- So, when I ran the code, the code failed which indicates that our dataset has some kind of malformed data. \n",
    "- At this stage we can either use the \"**_DROPMALFORMED_**\" read mode or \"**_PERMISSIVE_**\" read mode. If we used DROPMALFORMED we won't know which column or what the malformed data is. But, if we used PERMISSIVE we can collect our malformed data inside a column and if we don't require it we can drop the column later. "
   ]
  },
  {
   "cell_type": "code",
   "execution_count": null,
   "metadata": {
    "application/vnd.databricks.v1+cell": {
     "cellMetadata": {
      "byteLimit": 2048000,
      "rowLimit": 10000
     },
     "inputWidgets": {},
     "nuid": "1640fd58-866c-4d4e-bb1c-d4871b37c4aa",
     "showTitle": false,
     "title": ""
    }
   },
   "outputs": [
    {
     "name": "stdout",
     "output_type": "stream",
     "text": [
      "root\n",
      " |-- reviewId: integer (nullable = true)\n",
      " |-- creationDate: date (nullable = true)\n",
      " |-- criticName: string (nullable = true)\n",
      " |-- criticPageUrl: string (nullable = true)\n",
      " |-- reviewState: string (nullable = true)\n",
      " |-- isFresh: boolean (nullable = true)\n",
      " |-- isRotten: boolean (nullable = true)\n",
      " |-- isRtUrl: boolean (nullable = true)\n",
      " |-- isTopCritic: boolean (nullable = true)\n",
      " |-- publicationUrl: string (nullable = true)\n",
      " |-- publicationName: string (nullable = true)\n",
      " |-- reviewUrl: string (nullable = true)\n",
      " |-- quote: string (nullable = true)\n",
      " |-- scoreSentiment: string (nullable = true)\n",
      " |-- originalScore: string (nullable = true)\n",
      " |-- movieId: string (nullable = true)\n",
      " |-- _corrupt_records: string (nullable = true)\n",
      "\n",
      "+--------+------------+------------------+--------------------+-----------+-------+--------+-------+-----------+-------------------+--------------------+--------------------+--------------------+--------------+-------------+--------------------+----------------+\n",
      "|reviewId|creationDate|        criticName|       criticPageUrl|reviewState|isFresh|isRotten|isRtUrl|isTopCritic|     publicationUrl|     publicationName|           reviewUrl|               quote|scoreSentiment|originalScore|             movieId|_corrupt_records|\n",
      "+--------+------------+------------------+--------------------+-----------+-------+--------+-------+-----------+-------------------+--------------------+--------------------+--------------------+--------------+-------------+--------------------+----------------+\n",
      "| 1913302|  1992-01-01|              NULL|                NULL|     rotten|  false|    true|  false|       true|/critics/source/150|Entertainment Weekly|http://www.ew.com...|                NULL|      NEGATIVE|           D+|e14e169b-f9b5-328...|            NULL|\n",
      "| 1911370|  1999-08-29|              NULL|                NULL|     rotten|  false|    true|  false|       true|/critics/source/150|Entertainment Weekly|http://www.ew.com...|                NULL|      NEGATIVE|           C-|1b7b7ed1-b91c-392...|            NULL|\n",
      "|  159555|  2000-01-01|        A.O. Scott|   /critics/ao-scott|      fresh|   true|   false|  false|       true|/critics/source/337|      New York Times|http://www.nytime...|                NULL|      POSITIVE|          4/5|1b7b7ed1-b91c-392...|            NULL|\n",
      "|  159557|  2000-01-01|James Berardinelli|/critics/james-be...|      fresh|   true|   false|  false|      false|/critics/source/387|           ReelViews|http://www.reelvi...|                NULL|      POSITIVE|          3/4|1b7b7ed1-b91c-392...|            NULL|\n",
      "|  159558|  2000-01-01|       Roger Ebert|/critics/roger-ebert|      fresh|   true|   false|  false|       true| /critics/source/67|   Chicago Sun-Times|http://www.rogere...|A delightful demo...|      POSITIVE|          3/4|1b7b7ed1-b91c-392...|            NULL|\n",
      "+--------+------------+------------------+--------------------+-----------+-------+--------+-------+-----------+-------------------+--------------------+--------------------+--------------------+--------------+-------------+--------------------+----------------+\n",
      "only showing top 5 rows\n",
      "\n"
     ]
    }
   ],
   "source": [
    "criticSchema = StructType([\n",
    "    StructField(\"reviewId\", IntegerType(), True),\n",
    "    StructField(\"creationDate\", DateType(), True),\n",
    "    StructField(\"criticName\", StringType(), True),\n",
    "    StructField(\"criticPageUrl\", StringType(), True),\n",
    "    StructField(\"reviewState\", StringType(), True),\n",
    "    StructField(\"isFresh\", BooleanType(), True),\n",
    "    StructField(\"isRotten\", BooleanType(), True),\n",
    "    StructField(\"isRtUrl\", BooleanType(), True),\n",
    "    StructField(\"isTopCritic\", BooleanType(), True),\n",
    "    StructField(\"publicationUrl\", StringType(), True),\n",
    "    StructField(\"publicationName\", StringType(), True),\n",
    "    StructField(\"reviewUrl\", StringType(), True),\n",
    "    StructField(\"quote\", StringType(), True),\n",
    "    StructField(\"scoreSentiment\", StringType(), True),\n",
    "    StructField(\"originalScore\", StringType(), True),\n",
    "    StructField(\"movieId\", StringType(), True),\n",
    "    StructField(\"_corrupt_records\",StringType(),True)\n",
    "])\n",
    "\n",
    "criticReviewLoadDF = spark.read\\\n",
    "    .schema(criticSchema)\\\n",
    "    .option(\"header\",True)\\\n",
    "    .option(\"inferSchema\",True)\\\n",
    "    .option(\"mode\",\"PERMISSIVE\")\\\n",
    "    .option(\"columnNameOfCorruptRecord\",\"_corrupt_records\")\\\n",
    "    .csv(\"abfss://moviesdata@moviesdatastorageacc224.dfs.core.windows.net/critic_reviews.csv\")\n",
    "\n",
    "criticReviewLoadDF.printSchema()\n",
    "criticReviewLoadDF.show(5)"
   ]
  },
  {
   "cell_type": "code",
   "execution_count": null,
   "metadata": {
    "application/vnd.databricks.v1+cell": {
     "cellMetadata": {
      "byteLimit": 2048000,
      "rowLimit": 10000
     },
     "inputWidgets": {},
     "nuid": "a28f3450-74c5-4ce3-84ac-c87fd7306fc1",
     "showTitle": false,
     "title": ""
    }
   },
   "outputs": [],
   "source": [
    "#Writing the result to Azure Data Lake Storage\n",
    "output_pathcorr = \"abfss://moviesoutputdata@moviesdatastorageacc224.dfs.core.windows.net/catchingCorruptRecordCritics\"\n",
    "\n",
    "criticReviewLoadDF.write\\\n",
    "    .csv(output_pathcorr, mode=\"overwrite\")"
   ]
  },
  {
   "cell_type": "code",
   "execution_count": null,
   "metadata": {
    "application/vnd.databricks.v1+cell": {
     "cellMetadata": {
      "byteLimit": 2048000,
      "rowLimit": 10000
     },
     "inputWidgets": {},
     "nuid": "04207cf7-1f1f-44b1-8900-886d64bfc8c1",
     "showTitle": false,
     "title": ""
    }
   },
   "outputs": [
    {
     "name": "stdout",
     "output_type": "stream",
     "text": [
      "+--------+--------------------+------------+---------------+--------------------+-----------+-------+--------+-------+-----------+--------------------+--------------------+--------------------+--------------------+--------------+\n",
      "|reviewId|             movieId|creationDate|     criticName|       criticPageUrl|reviewState|isFresh|isRotten|isRtUrl|isTopCritic|      publicationUrl|     publicationName|           reviewUrl|               quote|scoreSentiment|\n",
      "+--------+--------------------+------------+---------------+--------------------+-----------+-------+--------+-------+-----------+--------------------+--------------------+--------------------+--------------------+--------------+\n",
      "|  159558|1b7b7ed1-b91c-392...|  2000-01-01|    Roger Ebert|/critics/roger-ebert|      fresh|   true|   false|  false|       true|  /critics/source/67|   Chicago Sun-Times|http://www.rogere...|A delightful demo...|      POSITIVE|\n",
      "|  159570|1b7b7ed1-b91c-392...|  2000-01-01|  Frank Swietek|/critics/frank-sw...|     rotten|  false|    true|  false|      false| /critics/source/347|   One Guy's Opinion|http://www.oneguy...|There are moments...|      NEGATIVE|\n",
      "|  159590|1b7b7ed1-b91c-392...|  2000-01-01| John A. Nesbit|/critics/john-a-n...|      fresh|   true|   false|  false|      false|/critics/source/1777|  Old School Reviews|http://oldschoolr...|proves the monks ...|      POSITIVE|\n",
      "|  159612|1b7b7ed1-b91c-392...|  2000-01-01|   Maria Garcia|/critics/maria-ga...|      fresh|   true|   false|  false|      false| /critics/source/171|Film Journal Inte...|http://www.filmjo...|Delightful and th...|      POSITIVE|\n",
      "|  764719|1b7b7ed1-b91c-392...|  2000-01-01|Dennis Schwartz|/critics/dennis-s...|      fresh|   true|   false|  false|      false| /critics/source/873|Dennis Schwartz M...|https://dennissch...|If all you see is...|      POSITIVE|\n",
      "|   43083|4237b32a-d262-3ad...|  2000-01-01|    Roger Ebert|/critics/roger-ebert|     rotten|  false|    true|  false|       true|  /critics/source/67|   Chicago Sun-Times|http://www.rogere...|In the right role...|      NEGATIVE|\n",
      "|  277814|318d2e99-64db-3ae...|  2002-01-09|  Jamie Russell|/critics/jamie-ru...|      fresh|   true|   false|  false|       true|  /critics/source/52|             BBC.com|http://www.bbc.co...|It's guaranteed t...|      POSITIVE|\n",
      "|  286508|318d2e99-64db-3ae...|  2002-02-15|   Warren Curry|/critics/warren-c...|     rotten|  false|    true|  false|      false| /critics/source/178|      Filmcritic.com|http://www.filmcr...|Contains all the ...|      NEGATIVE|\n",
      "|  286822|318d2e99-64db-3ae...|  2002-02-16|        Jon Lap|    /critics/jon-lap|     rotten|  false|    true|  false|      false|  /critics/source/19|        Apollo Guide|http://apolloguid...|Plays like a seri...|      NEGATIVE|\n",
      "|  287555|318d2e99-64db-3ae...|  2002-02-19|  Justine Elias|/critics/justine-...|     rotten|  false|    true|  false|       true| /critics/source/472|       Village Voice|http://www.villag...|A minor-league so...|      NEGATIVE|\n",
      "+--------+--------------------+------------+---------------+--------------------+-----------+-------+--------+-------+-----------+--------------------+--------------------+--------------------+--------------------+--------------+\n",
      "only showing top 10 rows\n",
      "\n"
     ]
    }
   ],
   "source": [
    "dateFormat = \"MM-dd-yyyy\"\n",
    "criticReviewDF = criticReviewLoadDF.select(col(\"reviewId\"),\n",
    "                                           col(\"movieId\"),\n",
    "                                           to_date(col(\"creationDate\"),dateFormat).alias(\"creationDate\"),\n",
    "                                           col(\"criticName\"),\n",
    "                                           col(\"criticPageUrl\"),\n",
    "                                           col(\"reviewState\"),\n",
    "                                           col(\"isFresh\"),\n",
    "                                           col(\"isRotten\"),\n",
    "                                           col(\"isRtUrl\"),\n",
    "                                           col(\"isTopCritic\"),\n",
    "                                           col(\"publicationUrl\"),\n",
    "                                           col(\"publicationName\"),\n",
    "                                           col(\"reviewUrl\"),\n",
    "                                           col(\"quote\"),\n",
    "                                           col(\"scoreSentiment\"))\\\n",
    "                                    .filter(col(\"criticName\").isNotNull() & col(\"criticPageUrl\").isNotNull() & col(\"isRtUrl\").isNotNull() & col(\"reviewUrl\").isNotNull() & col(\"quote\").isNotNull())\n",
    "criticReviewDF.show(10)"
   ]
  },
  {
   "cell_type": "code",
   "execution_count": null,
   "metadata": {
    "application/vnd.databricks.v1+cell": {
     "cellMetadata": {
      "byteLimit": 2048000,
      "rowLimit": 10000
     },
     "inputWidgets": {},
     "nuid": "f5316c3b-e4b1-4a05-880d-42192a4b5754",
     "showTitle": false,
     "title": ""
    }
   },
   "outputs": [],
   "source": [
    "#Writing the result to Azure Data Lake Storage\n",
    "output_path1 = \"abfss://moviesoutputdata@moviesdatastorageacc224.dfs.core.windows.net/criticsReview.csv\"\n",
    "\n",
    "criticReviewDF.write\\\n",
    "    .csv(output_path1, mode=\"overwrite\")"
   ]
  },
  {
   "cell_type": "markdown",
   "metadata": {},
   "source": [
    "# Using read modes to identify \"Malformed\" data\n",
    "- While reading the dataset \"**_user_reviews.csv_**\", first I used the read mode as \"**_FAILFAST_**\".\n",
    "\n",
    "`\n",
    "userReviewLoadDF = spark.read\\\n",
    "    .option(\"header\",True)\\\n",
    "    .option(\"inferSchema\",True)\\\n",
    "    .option(\"mode\",\"FAILFAST\")\\\n",
    "    .csv(\"abfss://moviesdata@moviesdatastorageacc224.dfs.core.windows.net/user_reviews.csv\")\n",
    "`\n",
    "\n",
    "- So, when I ran the code, the code failed which indicates that our dataset has some kind of malformed data. \n",
    "- At this stage we can either use the \"**_DROPMALFORMED_**\" read mode or \"**_PERMISSIVE_**\" read mode. If we used DROPMALFORMED we won't know which column or waht the malformed data is. But, if we used PERMISSIVE we can collect our malformed data inside a column and if we don't require it we can drop the column later. "
   ]
  },
  {
   "cell_type": "code",
   "execution_count": null,
   "metadata": {
    "application/vnd.databricks.v1+cell": {
     "cellMetadata": {
      "byteLimit": 2048000,
      "rowLimit": 10000
     },
     "inputWidgets": {},
     "nuid": "c38536f4-20a2-4f50-b537-72a43ffd62b6",
     "showTitle": false,
     "title": ""
    }
   },
   "outputs": [
    {
     "name": "stdout",
     "output_type": "stream",
     "text": [
      "+--------------------+------+--------------------+--------+----------+---------------+-----------+------------+-----+------------+---------------+---------+------+--------------------+\n",
      "|             movieId|rating|               quote|reviewId|isVerified|isSuperReviewer|hasSpoilers|hasProfanity|score|creationDate|userDisplayName|userRealm|userId|    _corrupt_records|\n",
      "+--------------------+------+--------------------+--------+----------+---------------+-----------+------------+-----+------------+---------------+---------+------+--------------------+\n",
      "|55f6efc8-0f2f-3ca...|   4.0|[b]Bend it Like B...|    NULL|      NULL|           NULL|       NULL|        NULL| NULL|        NULL|           NULL|     NULL|  NULL|\"55f6efc8-0f2f-3c...|\n",
      "|Really liked it. ...|  NULL|                NULL|    NULL|      NULL|           NULL|       NULL|        NULL| NULL|        NULL|           NULL|     NULL|  NULL|Really liked it. ...|\n",
      "|Emailed my Prof r...|  NULL|                NULL|    NULL|      NULL|           NULL|       NULL|        NULL| NULL|        NULL|           NULL|     NULL|  NULL|Emailed my Prof r...|\n",
      "|  [b]To Do List:[/b]|  NULL|                NULL|    NULL|      NULL|           NULL|       NULL|        NULL| NULL|        NULL|           NULL|     NULL|  NULL|  [b]To Do List:[/b]|\n",
      "|             Spanish|  NULL|                NULL|    NULL|      NULL|           NULL|       NULL|        NULL| NULL|        NULL|           NULL|     NULL|  NULL|             Spanish|\n",
      "+--------------------+------+--------------------+--------+----------+---------------+-----------+------------+-----+------------+---------------+---------+------+--------------------+\n",
      "only showing top 5 rows\n",
      "\n"
     ]
    }
   ],
   "source": [
    "userSchema = StructType([\n",
    "    StructField(\"movieId\", StringType(), True),\n",
    "    StructField(\"rating\", DoubleType(), True),\n",
    "    StructField(\"quote\", StringType(), True),\n",
    "    StructField(\"reviewId\", StringType(), True),\n",
    "    StructField(\"isVerified\", BooleanType(), True),\n",
    "    StructField(\"isSuperReviewer\", BooleanType(), True),\n",
    "    StructField(\"hasSpoilers\", BooleanType(), True),\n",
    "    StructField(\"hasProfanity\", BooleanType(), True),\n",
    "    StructField(\"score\", DoubleType(), True),\n",
    "    StructField(\"creationDate\", DateType(), True),\n",
    "    StructField(\"userDisplayName\", StringType(), True),\n",
    "    StructField(\"userRealm\", StringType(), True),\n",
    "    StructField(\"userId\", StringType(), True),\n",
    "    StructField(\"_corrupt_records\", StringType(), True)\n",
    "])\n",
    "\n",
    "userReviewsLoadDF = spark.read\\\n",
    "    .schema(userSchema)\\\n",
    "    .option(\"header\",True)\\\n",
    "    .option(\"inferSchema\",True)\\\n",
    "    .option(\"mode\",\"PERMISSIVE\")\\\n",
    "    .option(\"columnNameOfCorruptRecord\",\"_corrupt_records\")\\\n",
    "    .csv(\"abfss://moviesdata@moviesdatastorageacc224.dfs.core.windows.net/user_reviews.csv\")\n",
    "\n",
    "userReviewsLoadDF.show(5)"
   ]
  },
  {
   "cell_type": "code",
   "execution_count": null,
   "metadata": {
    "application/vnd.databricks.v1+cell": {
     "cellMetadata": {
      "byteLimit": 2048000,
      "rowLimit": 10000
     },
     "inputWidgets": {},
     "nuid": "0f424b24-f1b7-4351-a32c-fbce115d7505",
     "showTitle": false,
     "title": ""
    }
   },
   "outputs": [],
   "source": [
    "#Writing the result to Azure Data Lake Storage\n",
    "output_pathcorrU = \"abfss://moviesoutputdata@moviesdatastorageacc224.dfs.core.windows.net/catchingCorruptRecordUsers\"\n",
    "\n",
    "userReviewsLoadDF.repartition(1).write\\\n",
    "    .csv(output_pathcorrU, mode=\"overwrite\")"
   ]
  },
  {
   "cell_type": "code",
   "execution_count": null,
   "metadata": {
    "application/vnd.databricks.v1+cell": {
     "cellMetadata": {
      "byteLimit": 2048000,
      "rowLimit": 10000
     },
     "inputWidgets": {},
     "nuid": "ceb8fa63-7c8f-430e-8ffb-895613a03032",
     "showTitle": false,
     "title": ""
    }
   },
   "outputs": [
    {
     "name": "stdout",
     "output_type": "stream",
     "text": [
      "+--------------------+------+--------------------+----------+---------------+-----------+------------+---------+---------+\n",
      "|             movieId|rating|               quote|isVerified|isSuperReviewer|hasSpoilers|hasProfanity|userRealm|   userId|\n",
      "+--------------------+------+--------------------+----------+---------------+-----------+------------+---------+---------+\n",
      "|cc778bc8-58db-31c...|   5.0|[font=Arial]This ...|     false|          false|      false|       false|       RT|900779813|\n",
      "|cc778bc8-58db-31c...|   5.0|I really enjoyed ...|     false|          false|      false|       false|       RT|900780354|\n",
      "|55f6efc8-0f2f-3ca...|   5.0|Am I retarded, th...|     false|          false|      false|       false|       RT|900659810|\n",
      "|3da46dee-cea6-3eb...|   5.0|and its like tota...|     false|          false|      false|       false|       RT|900612371|\n",
      "|55f6efc8-0f2f-3ca...|   5.0|Not many movies c...|     false|          false|      false|       false|       RT|900742422|\n",
      "|55f6efc8-0f2f-3ca...|   5.0|I love this movie...|     false|          false|      false|       false|       RT|900670236|\n",
      "|cc778bc8-58db-31c...|   5.0|Exciting soccer m...|     false|          false|      false|       false|       RT|900779885|\n",
      "|cc778bc8-58db-31c...|   5.0|``The Game of The...|     false|          false|      false|       false|       RT|900780647|\n",
      "|3da46dee-cea6-3eb...|   5.0|This is by far th...|     false|          false|      false|       false|       RT|900716056|\n",
      "|3da46dee-cea6-3eb...|   5.0|Great flick about...|     false|          false|      false|       false|       RT|900681474|\n",
      "+--------------------+------+--------------------+----------+---------------+-----------+------------+---------+---------+\n",
      "only showing top 10 rows\n",
      "\n"
     ]
    }
   ],
   "source": [
    "userReviewsDF = userReviewsLoadDF.select(col(\"movieId\"), \n",
    "                                         col(\"rating\"), \n",
    "                                         col(\"quote\"), \n",
    "                                         col(\"isVerified\"), \n",
    "                                         col(\"isSuperReviewer\"), \n",
    "                                         col(\"hasSpoilers\"), \n",
    "                                         col(\"hasProfanity\"), \n",
    "                                         col(\"userRealm\"), \n",
    "                                         col(\"userId\"))\\\n",
    "                                .filter(col(\"quote\").isNotNull() & col(\"isVerified\").isNotNull() & col(\"isSuperReviewer\").isNotNull() & col(\"hasSpoilers\").isNotNull() & col(\"hasProfanity\").isNotNull() & col(\"userRealm\").isNotNull() & col(\"userId\").isNotNull())\\\n",
    "                                .orderBy(col(\"rating\").desc())\n",
    "\n",
    "userReviewsDF.show(10)\n"
   ]
  },
  {
   "cell_type": "code",
   "execution_count": null,
   "metadata": {
    "application/vnd.databricks.v1+cell": {
     "cellMetadata": {
      "byteLimit": 2048000,
      "rowLimit": 10000
     },
     "inputWidgets": {},
     "nuid": "c69b4eb9-f54d-4c62-9674-8674b3e0fd68",
     "showTitle": false,
     "title": ""
    }
   },
   "outputs": [],
   "source": [
    "#Writing the result to Azure Data Lake Storage\n",
    "output_path2 = \"abfss://moviesoutputdata@moviesdatastorageacc224.dfs.core.windows.net/usersReview.csv\"\n",
    "\n",
    "userReviewsLoadDF.repartition(1).write\\\n",
    "    .csv(output_path2, mode=\"overwrite\")"
   ]
  }
 ],
 "metadata": {
  "application/vnd.databricks.v1+notebook": {
   "dashboards": [],
   "environmentMetadata": null,
   "language": "python",
   "notebookMetadata": {
    "pythonIndentUnit": 4
   },
   "notebookName": "Best Soccer Movie Data Analysis",
   "widgets": {}
  },
  "language_info": {
   "name": "python"
  }
 },
 "nbformat": 4,
 "nbformat_minor": 0
}
